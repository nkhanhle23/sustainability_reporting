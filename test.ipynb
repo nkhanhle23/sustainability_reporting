{
 "cells": [
  {
   "cell_type": "code",
   "execution_count": 38,
   "metadata": {},
   "outputs": [],
   "source": [
    "import psycopg2\n",
    "\n",
    "# Connect to the PostgreSQL database\n",
    "conn = psycopg2.connect(\n",
    "    host=\"db-postgresql-sustainability-group-do-user-14262231-0.b.db.ondigitalocean.com\",\n",
    "    port=25060,\n",
    "    database=\"defaultdb\",\n",
    "    user=\"doadmin\",\n",
    "    password=\"AVNS_xJlGYQTQBtMI5V_xcj1\",\n",
    "    sslmode=\"require\"\n",
    ")\n",
    "\n"
   ]
  },
  {
   "cell_type": "code",
   "execution_count": 31,
   "metadata": {},
   "outputs": [],
   "source": [
    "industry_var = 'Financial Institution'\n",
    "financial_institution_var = 'FALSE'\n",
    "company_size_var = '>500 employees'\n",
    "total_asset_var = ''\n",
    "net_revenue_var = ''\n",
    "listed_on_regulated_markets_var = 'Yes (Additional criteria for companies that do not fall into the mentioned industries)'\n",
    "start_of_reporting_var = '2025 (for 2024)'\n",
    "reporting_group_var = ''\n",
    "hq_location_var = 'EU'"
   ]
  },
  {
   "cell_type": "code",
   "execution_count": 43,
   "metadata": {},
   "outputs": [
    {
     "data": {
      "text/plain": [
       "\"SELECT d.directive_name FROM company as c JOIN directives d ON c.directive_id = d.directive_id WHERE c.industry LIKE '%Financial Institution%' AND c.financial_institution =  FALSE AND c.financial_institution LIKE '%FALSE%'\""
      ]
     },
     "execution_count": 43,
     "metadata": {},
     "output_type": "execute_result"
    }
   ],
   "source": [
    "query"
   ]
  },
  {
   "cell_type": "code",
   "execution_count": 85,
   "metadata": {},
   "outputs": [],
   "source": [
    "import pandas as pd "
   ]
  },
  {
   "cell_type": "code",
   "execution_count": 130,
   "metadata": {},
   "outputs": [],
   "source": [
    "import psycopg2\n",
    "\n",
    "# Connect to the PostgreSQL database\n",
    "conn = psycopg2.connect(\n",
    "    host=\"db-postgresql-sustainability-group-do-user-14262231-0.b.db.ondigitalocean.com\",\n",
    "    port=25060,\n",
    "    database=\"defaultdb\",\n",
    "    user=\"doadmin\",\n",
    "    password=\"AVNS_xJlGYQTQBtMI5V_xcj1\",\n",
    "    sslmode=\"require\"\n",
    ")\n",
    "\n",
    "list_industries = ['Financial Institution', 'Insurance', 'Pension Funds', 'Auditor', 'Extractive', 'Industry', 'Large Infrastructure', 'Company']\n",
    "list_industries_sfdr = ['Investment firms', 'pension funds', 'asset managers', 'insurance companies', 'banks', 'venture capital funds', 'credit institutions offering portfolio management', 'financial advisors']\n",
    "df_directives = pd.DataFrame(columns=['directive', 'start_date'])\n",
    "start_of_rep = ''\n",
    "\n",
    "cur = conn.cursor()\n",
    "\n",
    "# query the csrd description \n",
    "query_csrd_name = \"SELECT csrd_name FROM csrd\"\n",
    "query_csrd_description = \"SELECT csrd_description FROM csrd\"\n",
    "\n",
    "\n",
    "\n",
    "\n",
    "# check for csrd\n",
    "if company_size_var == '>500 employees' and (industry_var in list_industries or listed_on_regulated_markets_var == 'Yes'):\n",
    "    df_directives.loc[len(df_directives)] = ['CSRD', '2025 (for 2024)']\n",
    "\n",
    "elif (company_size_var == '>250 employees' and total_asset_var == '>20Mio') or (company_size_var == '>250 employees' and net_revenue_var == '>40Mio') or (total_asset_var == '>20Mio' and net_revenue_var == '>40Mio'): \n",
    "    df_directives.loc[len(df_directives)] = ['CSRD', '2026 (for 2025)']\n",
    "    \n",
    "elif (company_size_var == '<250 employees' and total_asset_var == '<20Mio' and listed_on_regulated_markets_var == 'Yes'):\n",
    "    df_directives.loc[len(df_directives)] = ['CSRD', '2026 (for 2025)']\n",
    "\n",
    "else:\n",
    "    pass\n",
    "\n",
    "\n",
    "# nfdr\n",
    "if company_size_var == '>500 employees' and (industry_var in list_industries or listed_on_regulated_markets_var == 'Yes'):\n",
    "    df_directives.loc[len(df_directives)] = ['NFRD', '2017 until 2025']\n",
    "\n",
    "\n",
    "# EU-Taxonomy \n",
    "if company_size_var == '>500 employees' and (industry_var in list_industries or listed_on_regulated_markets_var == 'Yes'):\n",
    "    df_directives.loc[len(df_directives)] = ['EU-Taxonomy', '2022']\n",
    "\n",
    "# sfdr \n",
    "if industry_var in list_industries_sfdr:\n",
    "    df_directives.loc[len(df_directives)] = ['SFDR Level 1', '2021']\n",
    "    df_directives.loc[len(df_directives)] = ['SFDR Level 2', '2023']\n",
    "\n",
    "\n",
    "\n",
    "\n",
    "\n",
    "result_df = pd.DataFrame(columns=['directive', 'start_date',  'csrd_name', 'csrd_description' ])\n",
    "\n",
    "\n",
    "for index, row in df_directives.iterrows():\n",
    "\n",
    "    directive = row['directive']\n",
    "    start_date = row['start_date']\n",
    "\n",
    "\n",
    "    if directive == 'CSRD':\n",
    "        # Query the \"csrd\" table\n",
    "        cur.execute(\"SELECT csrd_name FROM csrd\")\n",
    "        csrd_names = str(cur.fetchall())\n",
    "\n",
    "        cur.execute(\"SELECT csrd_description FROM csrd\")\n",
    "        csrd_description = str(cur.fetchall())\n",
    "\n",
    "        result_df.loc[len(result_df)] = ['CSRD', start_date, csrd_names, csrd_description]\n",
    "\n",
    "\n",
    "    elif directive == 'NFRD':\n",
    "        # Query the \"nfrd\" table\n",
    "        cur.execute(\"SELECT nfrd_name FROM nfrd\")\n",
    "        nfrd_names = str(cur.fetchall())\n",
    "\n",
    "        cur.execute(\"SELECT nfrd_description FROM nfrd\")\n",
    "        nfrd_description = str(cur.fetchall())\n",
    "\n",
    "        result_df.loc[len(result_df)] = ['NFRD', start_date, nfrd_names, '']\n",
    "\n",
    "    elif directive == 'EU-Taxonomy':\n",
    "        # Query the \"Eu-Taxonomy\" table\n",
    "        cur.execute(\"SELECT eu_taxonomy_name FROM eu_taxonomy\")\n",
    "        eu_taxonomy_names = str(cur.fetchall())\n",
    "\n",
    "        cur.execute(\"SELECT eu_taxonomy_description FROM eu_taxonomy\")\n",
    "        eu_taxonomy_description = str(cur.fetchall())\n",
    "\n",
    "        result_df.loc[len(result_df)] = ['EU-Taxonomy', start_date, eu_taxonomy_names, eu_taxonomy_description]\n",
    "\n",
    "    elif directive == 'SFDR Level 1':\n",
    "        # Query the \"Eu-Taxonomy\" table\n",
    "        cur.execute(\"SELECT sfdr_name FROM sfdr WHERE sfdr_name LIKE 'Level 1%'\")\n",
    "        sfdr_names = str(cur.fetchall())\n",
    "\n",
    "        cur.execute(\"SELECT sfdr_description FROM sfdr WHERE sfdr_name LIKE 'Level 1%'\")\n",
    "        sfdr_description = str(cur.fetchall())\n",
    "\n",
    "        result_df.loc[len(result_df)] = ['SFDR Level 1', start_date, sfdr_names, '']\n",
    "\n",
    "    elif directive == 'SFDR Level 2':\n",
    "        # Query the \"Eu-Taxonomy\" table\n",
    "        cur.execute(\"SELECT sfdr_name FROM sfdr WHERE sfdr_name LIKE 'Level 2%'\")\n",
    "        sfdr_names = str(cur.fetchall())\n",
    "\n",
    "        cur.execute(\"SELECT sfdr_description FROM sfdr WHERE sfdr_name LIKE 'Level 2%'\")\n",
    "        sfdr_description = str(cur.fetchall())\n",
    "\n",
    "        result_df.loc[len(result_df)] = ['SFDR Level 2', start_date, sfdr_names, sfdr_description]\n",
    "\n",
    "\n",
    "    else: \n",
    "        break\n",
    "\n",
    "# Close the cursor and connection\n",
    "cur.close()\n",
    "conn.close()\n",
    "\n",
    "\n"
   ]
  },
  {
   "cell_type": "code",
   "execution_count": 131,
   "metadata": {},
   "outputs": [
    {
     "data": {
      "text/html": [
       "<div>\n",
       "<style scoped>\n",
       "    .dataframe tbody tr th:only-of-type {\n",
       "        vertical-align: middle;\n",
       "    }\n",
       "\n",
       "    .dataframe tbody tr th {\n",
       "        vertical-align: top;\n",
       "    }\n",
       "\n",
       "    .dataframe thead th {\n",
       "        text-align: right;\n",
       "    }\n",
       "</style>\n",
       "<table border=\"1\" class=\"dataframe\">\n",
       "  <thead>\n",
       "    <tr style=\"text-align: right;\">\n",
       "      <th></th>\n",
       "      <th>directive</th>\n",
       "      <th>start_date</th>\n",
       "      <th>csrd_name</th>\n",
       "      <th>csrd_description</th>\n",
       "    </tr>\n",
       "  </thead>\n",
       "  <tbody>\n",
       "    <tr>\n",
       "      <th>0</th>\n",
       "      <td>CSRD</td>\n",
       "      <td>2025 (for 2024)</td>\n",
       "      <td>[('General principles',), ('Double materiality...</td>\n",
       "      <td>[('General, strategy, governance and materiali...</td>\n",
       "    </tr>\n",
       "    <tr>\n",
       "      <th>1</th>\n",
       "      <td>NFRD</td>\n",
       "      <td>2017 until 2025</td>\n",
       "      <td>[('Environmental issues',), ('Social issues an...</td>\n",
       "      <td></td>\n",
       "    </tr>\n",
       "    <tr>\n",
       "      <th>2</th>\n",
       "      <td>EU-Taxonomy</td>\n",
       "      <td>2022</td>\n",
       "      <td>[('Environmentally sustainable portion of the ...</td>\n",
       "      <td>[('',), ('Broken down by taxonomy compliant ec...</td>\n",
       "    </tr>\n",
       "    <tr>\n",
       "      <th>3</th>\n",
       "      <td>SFDR Level 1</td>\n",
       "      <td>2021</td>\n",
       "      <td>[('Level 1: List of sustainability / ESG risks...</td>\n",
       "      <td></td>\n",
       "    </tr>\n",
       "    <tr>\n",
       "      <th>4</th>\n",
       "      <td>SFDR Level 2</td>\n",
       "      <td>2023</td>\n",
       "      <td>[('Level 2: Extent to which each product compl...</td>\n",
       "      <td>[('Article 6-products are those that only asse...</td>\n",
       "    </tr>\n",
       "  </tbody>\n",
       "</table>\n",
       "</div>"
      ],
      "text/plain": [
       "      directive       start_date   \n",
       "0          CSRD  2025 (for 2024)  \\\n",
       "1          NFRD  2017 until 2025   \n",
       "2   EU-Taxonomy             2022   \n",
       "3  SFDR Level 1             2021   \n",
       "4  SFDR Level 2             2023   \n",
       "\n",
       "                                           csrd_name   \n",
       "0  [('General principles',), ('Double materiality...  \\\n",
       "1  [('Environmental issues',), ('Social issues an...   \n",
       "2  [('Environmentally sustainable portion of the ...   \n",
       "3  [('Level 1: List of sustainability / ESG risks...   \n",
       "4  [('Level 2: Extent to which each product compl...   \n",
       "\n",
       "                                    csrd_description  \n",
       "0  [('General, strategy, governance and materiali...  \n",
       "1                                                     \n",
       "2  [('',), ('Broken down by taxonomy compliant ec...  \n",
       "3                                                     \n",
       "4  [('Article 6-products are those that only asse...  "
      ]
     },
     "execution_count": 131,
     "metadata": {},
     "output_type": "execute_result"
    }
   ],
   "source": [
    "result_df"
   ]
  },
  {
   "cell_type": "code",
   "execution_count": 82,
   "metadata": {},
   "outputs": [],
   "source": [
    "list_directives = [[]]\n",
    "list_directives.append([['CSRD'], ['2025 (for 2024)']])\n"
   ]
  },
  {
   "cell_type": "code",
   "execution_count": 84,
   "metadata": {},
   "outputs": [
    {
     "ename": "IndexError",
     "evalue": "list index out of range",
     "output_type": "error",
     "traceback": [
      "\u001b[0;31m---------------------------------------------------------------------------\u001b[0m",
      "\u001b[0;31mIndexError\u001b[0m                                Traceback (most recent call last)",
      "Cell \u001b[0;32mIn[84], line 1\u001b[0m\n\u001b[0;32m----> 1\u001b[0m list_directives[\u001b[39m0\u001b[39;49m][\u001b[39m1\u001b[39;49m]\n",
      "\u001b[0;31mIndexError\u001b[0m: list index out of range"
     ]
    }
   ],
   "source": [
    "list_directives[0][1]"
   ]
  },
  {
   "cell_type": "code",
   "execution_count": null,
   "metadata": {},
   "outputs": [],
   "source": [
    "\n",
    "# Construct the query strings\n",
    "query = \"SELECT d.directive_name FROM company as c JOIN directives d ON c.directive_id = d.directive_id WHERE c.industry LIKE '%\" + industry_var +\"%' AND c.financial_institution =  \" + financial_institution_var +\" AND c.company_size LIKE '%\" + company_size_var +\"%' AND c.total_asset LIKE '%\" + total_asset_var +\"%' AND c.net_revenue LIKE '%\" + net_revenue_var +\"%' AND c.listed_on_regulated_markets LIKE '%\" + listed_on_regulated_markets_var +\"%' AND c.start_of_reporting LIKE '%\" + start_of_reporting_var +\"%' AND c.reporting_group LIKE '%\" + reporting_group_var +\"%' AND c.hq_location LIKE '%\" + hq_location_var +\"%'\"\n",
    "\n",
    "query_csrd = \"SELECT csrd_name, csrd_description FROM csrd\"\n",
    "\n",
    "query_nfdr = \"SELECT nfdr_name, nfdr_description FROM nfdr\"\n",
    "            \n",
    "query_eutax = \"SELECT eutax_name, eutax_description FROM eu_taxonomy\"\n",
    "\n",
    "query_sfdr = \"SELECT sfdr_name, sfdr_description FROM sfdr\"\t\t\n",
    "\n",
    "\n",
    "# Query the \"Company\" table\n",
    "cur.execute(query)\n",
    "dicrective_rows = cur.fetchone()\n",
    "\n",
    "for row in dicrective_rows:\n",
    "    directive = row\n",
    "\n",
    "if directive == 'CSRD':\n",
    "    cur.execute(query_csrd)\n",
    "    result_rows = cur.fetchall()\n",
    "\n",
    "\n",
    "# Close the cursor and connection\n",
    "cur.close()\n",
    "conn.close()"
   ]
  },
  {
   "cell_type": "code",
   "execution_count": null,
   "metadata": {},
   "outputs": [],
   "source": [
    "#initiate three dimensional array à [CSRD:][Component Heading – line break – Component #description if available][Year to file] \n",
    " \n",
    "csrd_array= empty_array \n",
    "if (company_sector mentioned in industry column): \n",
    "Read line where company sector is mentioned, and store start of reporting + general components in csrd_array \n",
    " \n",
    "else if(at least 2 out of 3 criteria of company level id 2 are met): \n",
    "Read line of id 2 and store start of reporting + general components in csrd_array \n",
    " \n",
    "else if(at least 2 out of 3 criteria of company level id 3 are met): \n",
    "Read line of id 3 and store start of reporting + general components in csrd_array \n",
    " \n",
    "else: \n",
    "Read line of id 4 and store start of reporting + general components in csrd_array "
   ]
  },
  {
   "cell_type": "code",
   "execution_count": 61,
   "metadata": {},
   "outputs": [
    {
     "data": {
      "text/plain": [
       "[('General principles',\n",
       "  'General, strategy, governance and materiality assessment disclosure requirements'),\n",
       " ('Double materiality',\n",
       "  'How companies operations impact people and the environment, and how sustainability-related developments impact the organisation'),\n",
       " ('Environment',\n",
       "  'Climate change, Pollution, Water and marine resources, Biodiversity and ecosystems und Resource use and circular economy'),\n",
       " ('Detailed energy consumption data', ''),\n",
       " ('Scope 1 GHG emissions (actual and forecast)',\n",
       "  'company facilities, company vehicles'),\n",
       " ('Scope 2 GHG emissions (actual and forecast)',\n",
       "  'purchased electricity, steam, heating  & cooling for own use'),\n",
       " ('Scope 3 upstream GHG emissions (actual and forecast)',\n",
       "  'purchased goods and services, capital goods, fuel and energy related activities'),\n",
       " ('Scope 3 downstream GHG emissions (actual and forecast)',\n",
       "  'transportation and distribution, processing of sold products, end of life treatment of sold products, leased assets, franchises'),\n",
       " ('Intensity metrics (i.e. measuring absolute emission and consumption rates in relation to fixed metrics such as revenue)',\n",
       "  ''),\n",
       " ('Social',\n",
       "  'Own workforce, Workers in the value chain, Affected communities und Consumers and end-users'),\n",
       " ('Governance',\n",
       "  'Governance, risk management and internal control, Business conduct'),\n",
       " ('Materiality Assessment',\n",
       "  'Description of the process to identify material sustainability impacts, risks and opportunities')]"
      ]
     },
     "execution_count": 61,
     "metadata": {},
     "output_type": "execute_result"
    }
   ],
   "source": [
    "result_rows"
   ]
  },
  {
   "cell_type": "code",
   "execution_count": null,
   "metadata": {},
   "outputs": [],
   "source": [
    "# Query the \"csrd\" table\n",
    "cur.execute(\"SELECT * FROM csrd\")\n",
    "csrd_rows = cur.fetchall()\n",
    "print(\"csrd:\")\n",
    "for row in csrd_rows:\n",
    "    print(row)"
   ]
  },
  {
   "cell_type": "code",
   "execution_count": null,
   "metadata": {},
   "outputs": [],
   "source": [
    " AND c.financial_institution = ''' || financial_institution_var || '''                   \n",
    "                   AND c.company_size LIKE ''%' || company_size_var || '%''\n",
    "                   AND c.total_asset LIKE ''%' || total_asset_var || '%''\t\t\t\t   \n",
    "                   AND c.net_revenue LIKE ''%' || net_revenue_var || '%''\t\t\t\t   \n",
    "                   AND c.listed_on_regulated_markets LIKE ''%' || listed_on_regulated_markets_var || '%''\t\t\t\t   \t\t\t   \t\t\t\t   \n",
    "\t\t\t\t   AND c.start_of_reporting LIKE ''%' || start_of_reporting_var || '%''\t\t\t\t   \n",
    "\t\t\t\t   AND c.reporting_group LIKE ''%' || reporting_group_var || '%''\t\t\t\t   \n",
    "                   AND c.hq_location LIKE ''%' || hq_location_var || '%''"
   ]
  }
 ],
 "metadata": {
  "kernelspec": {
   "display_name": "Python 3",
   "language": "python",
   "name": "python3"
  },
  "language_info": {
   "codemirror_mode": {
    "name": "ipython",
    "version": 3
   },
   "file_extension": ".py",
   "mimetype": "text/x-python",
   "name": "python",
   "nbconvert_exporter": "python",
   "pygments_lexer": "ipython3",
   "version": "3.9.16"
  },
  "orig_nbformat": 4,
  "vscode": {
   "interpreter": {
    "hash": "a665b5d41d17b532ea9890333293a1b812fa0b73c9c25c950b3cedf1bebd0438"
   }
  }
 },
 "nbformat": 4,
 "nbformat_minor": 2
}
